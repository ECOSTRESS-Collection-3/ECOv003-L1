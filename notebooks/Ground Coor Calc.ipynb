{
 "cells": [
  {
   "cell_type": "markdown",
   "metadata": {},
   "source": [
    "Play with getting a faster way to get ground coordinates"
   ]
  },
  {
   "cell_type": "code",
   "execution_count": 48,
   "metadata": {
    "collapsed": true
   },
   "outputs": [],
   "source": [
    "from ecostress import *\n",
    "from geocal import *\n",
    "%load_ext Cython"
   ]
  },
  {
   "cell_type": "code",
   "execution_count": 2,
   "metadata": {
    "collapsed": true
   },
   "outputs": [],
   "source": [
    "igc = read_shelve(\"../python/igc.xml\")"
   ]
  },
  {
   "cell_type": "code",
   "execution_count": 3,
   "metadata": {
    "collapsed": false
   },
   "outputs": [
    {
     "data": {
      "text/plain": [
       "<geocal_swig.hdf_orbit.HdfOrbit_Eci_TimeJ2000; proxy of <Swig Object of type 'boost::shared_ptr< GeoCal::HdfOrbit< GeoCal::Eci,GeoCal::TimeJ2000Creator > > *' at 0x7f5a7a5f9450> >"
      ]
     },
     "execution_count": 3,
     "metadata": {},
     "output_type": "execute_result"
    }
   ],
   "source": [
    "igc.orbit"
   ]
  },
  {
   "cell_type": "code",
   "execution_count": 9,
   "metadata": {
    "collapsed": false
   },
   "outputs": [
    {
     "name": "stdout",
     "output_type": "stream",
     "text": [
      "2015-01-24T20:42:51.230216Z\n",
      "2015-01-24T20:42:51.230216Z\n"
     ]
    }
   ],
   "source": [
    "print(igc.time_table.time(ImageCoordinate(0,0))[0])\n",
    "print(igc.time_table.time(ImageCoordinate(255,0))[0])"
   ]
  },
  {
   "cell_type": "code",
   "execution_count": 71,
   "metadata": {
    "collapsed": false
   },
   "outputs": [],
   "source": [
    "class GroundCoorArr(object):\n",
    "    def __init__(self,igc):\n",
    "        self.time_table = igc.time_table\n",
    "        self.igc = igc\n",
    "        self.slv = [igc.camera.sc_look_vector(FrameCoordinate(i, 0), igc.band) \n",
    "                   for i in range(igc.camera.number_line(igc.band))]\n",
    "        \n",
    "    def ground_coor_arr(self, start_line):\n",
    "        self.res = np.empty((len(self.slv), self.igc.number_sample,3))\n",
    "        self.dist = np.empty((len(self.slv)))\n",
    "        ms = int(self.igc.number_sample / 2)\n",
    "        self.ground_coor_arr_samp(start_line, ms, \n",
    "                                  initial_samp = True)\n",
    "        self.dist_middle = self.dist.copy()\n",
    "        for smp in range(ms + 1, self.igc.number_sample):\n",
    "            print(\"Doing \", smp)\n",
    "            self.ground_coor_arr_samp(start_line, smp)\n",
    "        self.dist[:] = self.dist_middle\n",
    "        for smp in range(ms - 1, ms - 10, -1):\n",
    "            print(\"Doing \", smp)\n",
    "            self.ground_coor_arr_samp(start_line, smp)\n",
    "        return self.res\n",
    "        \n",
    "    def ground_coor_arr_samp(self, start_line, sample, initial_samp = False):\n",
    "        t, fc = self.time_table.time(ImageCoordinate(start_line, sample))\n",
    "        od = self.igc.orbit_data(t, sample)\n",
    "        cf = od.position_cf\n",
    "        for i, sl in enumerate(self.slv):\n",
    "            lv = od.cf_look_vector(sl)\n",
    "            if(initial_samp):\n",
    "                self.res[i,sample,:] = self.igc.dem.intersect(cf, lv, self.igc.resolution, \n",
    "                                                         self.igc.max_height).position\n",
    "            else:\n",
    "                start_dist = self.dist[i]\n",
    "                if(i - 1 >= 0):\n",
    "                    start_dist = min(start_dist, self.dist[i-1])\n",
    "                if(i + 1 < self.dist.shape[0]):\n",
    "                    start_dist = min(start_dist, self.dist[i-1])\n",
    "                self.res[i,sample,:] = self.igc.dem.intersect_start_length(cf, lv, \n",
    "                                            self.igc.resolution,  start_dist).position\n",
    "            self.dist[i] = np.linalg.norm(self.res[i,sample,:] - cf.position)\n",
    "            \n",
    "\n"
   ]
  },
  {
   "cell_type": "code",
   "execution_count": 65,
   "metadata": {
    "collapsed": false
   },
   "outputs": [
    {
     "ename": "AttributeError",
     "evalue": "'_cython_magic_0995d6f2a5dc137674d73831e90935b4.GroundCoorArr' object has no attribute 'time_table'",
     "output_type": "error",
     "traceback": [
      "\u001b[0;31m---------------------------------------------------------------------------\u001b[0m",
      "\u001b[0;31mAttributeError\u001b[0m                            Traceback (most recent call last)",
      "\u001b[0;32m<ipython-input-65-b2e1931b9172>\u001b[0m in \u001b[0;36m<module>\u001b[0;34m()\u001b[0m\n\u001b[0;32m----> 1\u001b[0;31m \u001b[0mc\u001b[0m \u001b[0;34m=\u001b[0m \u001b[0mGroundCoorArr\u001b[0m\u001b[0;34m(\u001b[0m\u001b[0migc\u001b[0m\u001b[0;34m)\u001b[0m\u001b[0;34m\u001b[0m\u001b[0m\n\u001b[0m\u001b[1;32m      2\u001b[0m \u001b[0mt\u001b[0m \u001b[0;34m=\u001b[0m \u001b[0mc\u001b[0m\u001b[0;34m.\u001b[0m\u001b[0mground_coor_arr\u001b[0m\u001b[0;34m(\u001b[0m\u001b[0;36m0\u001b[0m\u001b[0;34m)\u001b[0m\u001b[0;34m\u001b[0m\u001b[0m\n\u001b[1;32m      3\u001b[0m \u001b[0mprint\u001b[0m\u001b[0;34m(\u001b[0m\u001b[0mt\u001b[0m\u001b[0;34m[\u001b[0m\u001b[0;36m0\u001b[0m\u001b[0;34m,\u001b[0m\u001b[0;36m2700\u001b[0m\u001b[0;34m,\u001b[0m\u001b[0;34m:\u001b[0m\u001b[0;34m]\u001b[0m\u001b[0;34m)\u001b[0m\u001b[0;34m\u001b[0m\u001b[0m\n",
      "\u001b[0;32m_cython_magic_0995d6f2a5dc137674d73831e90935b4.pyx\u001b[0m in \u001b[0;36m_cython_magic_0995d6f2a5dc137674d73831e90935b4.GroundCoorArr.__init__ (/home/smyth/.cache/ipython/cython/_cython_magic_0995d6f2a5dc137674d73831e90935b4.c:1017)\u001b[0;34m()\u001b[0m\n",
      "\u001b[0;31mAttributeError\u001b[0m: '_cython_magic_0995d6f2a5dc137674d73831e90935b4.GroundCoorArr' object has no attribute 'time_table'"
     ]
    }
   ],
   "source": [
    "c = GroundCoorArr(igc)\n",
    "t = c.ground_coor_arr(0)\n",
    "print(t[0,2700,:])"
   ]
  },
  {
   "cell_type": "code",
   "execution_count": 45,
   "metadata": {
    "collapsed": false
   },
   "outputs": [
    {
     "data": {
      "text/plain": [
       "0.006387512412494821"
      ]
     },
     "execution_count": 45,
     "metadata": {},
     "output_type": "execute_result"
    }
   ],
   "source": [
    "distance(Ecr(*t[10,5300,:]), igc.ground_coordinate(ImageCoordinate(10, 5300)))"
   ]
  },
  {
   "cell_type": "code",
   "execution_count": 29,
   "metadata": {
    "collapsed": false
   },
   "outputs": [],
   "source": [
    "tfull = np.zeros((256,5400, 3))"
   ]
  },
  {
   "cell_type": "code",
   "execution_count": 31,
   "metadata": {
    "collapsed": false
   },
   "outputs": [],
   "source": [
    "tfull[0,2700,:] = t[0].position"
   ]
  },
  {
   "cell_type": "code",
   "execution_count": null,
   "metadata": {
    "collapsed": true
   },
   "outputs": [],
   "source": []
  }
 ],
 "metadata": {
  "kernelspec": {
   "display_name": "Python 3",
   "language": "python",
   "name": "python3"
  },
  "language_info": {
   "codemirror_mode": {
    "name": "ipython",
    "version": 3
   },
   "file_extension": ".py",
   "mimetype": "text/x-python",
   "name": "python",
   "nbconvert_exporter": "python",
   "pygments_lexer": "ipython3",
   "version": "3.5.1"
  }
 },
 "nbformat": 4,
 "nbformat_minor": 1
}
