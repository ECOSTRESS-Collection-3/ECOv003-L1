{
 "cells": [
  {
   "cell_type": "markdown",
   "metadata": {},
   "source": [
    "Work on getting an IGC that models ecostress\n",
    "============================================"
   ]
  },
  {
   "cell_type": "code",
   "execution_count": 1,
   "metadata": {
    "collapsed": true
   },
   "outputs": [],
   "source": [
    "from geocal import *\n",
    "from ecostress import *\n",
    "import h5py\n",
    "import os"
   ]
  },
  {
   "cell_type": "code",
   "execution_count": 2,
   "metadata": {
    "collapsed": false
   },
   "outputs": [],
   "source": [
    "orb_fname = \"/data/smyth/ecostress-test-data/latest/L1A_RAW_ATT_80005_20150124T204251_0100_01.h5.expected\"\n",
    "orb = HdfOrbit_Eci_TimeJ2000(orb_fname, \"\", \"Ephemeris/time_j2000\",\n",
    "                             \"Ephemeris/eci_position\",\n",
    "                             \"Ephemeris/eci_velocity\",\n",
    "                             \"Attitude/time_j2000\",\n",
    "                             \"Attitude/quaternion\")\n",
    "rad_fname = \"/data/smyth/ecostress-test-data/latest/ECOSTRESS_L1B_RAD_80005_001_20150124T204251_0100_01.h5.expected\"\n",
    "f = h5py.File(rad_fname, \"r\")\n",
    "tmlist = f[\"/Time/line_start_time_j2000\"][:]\n",
    "tt = MeasuredTimeTable([Time.time_j2000(t) for t in tmlist])\n",
    "datum = os.environ[\"AFIDS_VDEV_DATA\"] + \"/EGM96_20_x100.HLF\"\n",
    "srtm_dir = os.environ[\"ELEV_ROOT\"]\n",
    "dem = SrtmDem(srtm_dir,False, DatumGeoid96(datum))"
   ]
  },
  {
   "cell_type": "code",
   "execution_count": 3,
   "metadata": {
    "collapsed": false
   },
   "outputs": [],
   "source": [
    "# Initial camera, we will change this\n",
    "cam_fname = \"/data/smyth/ecostress-test-data/latest/l1_osp_dir/camera.xml\"\n",
    "cam_old = read_shelve(cam_fname)"
   ]
  },
  {
   "cell_type": "code",
   "execution_count": 4,
   "metadata": {
    "collapsed": false
   },
   "outputs": [],
   "source": [
    "def pixel_size(cam, ic):\n",
    "    t, fc = tt.time(ic)\n",
    "    od = orb.orbit_data(t)\n",
    "    gp1 = od.surface_intersect(cam, fc, dem)\n",
    "    fc.line = fc.line + 1\n",
    "    gp2 = od.surface_intersect(cam, fc, dem)\n",
    "    fc.line = fc.line - 1\n",
    "    fc.sample = fc.sample + 1\n",
    "    gp3 = od.surface_intersect(cam, fc, dem)\n",
    "    print(distance(gp1, gp2))\n",
    "    print(distance(gp1, gp3))"
   ]
  },
  {
   "cell_type": "code",
   "execution_count": 5,
   "metadata": {
    "collapsed": false
   },
   "outputs": [
    {
     "name": "stdout",
     "output_type": "stream",
     "text": [
      "70.38688759623848\n",
      "76.768843193277\n"
     ]
    }
   ],
   "source": [
    "pixel_size(cam_old, ImageCoordinate(0,0))"
   ]
  },
  {
   "cell_type": "code",
   "execution_count": 6,
   "metadata": {
    "collapsed": false
   },
   "outputs": [],
   "source": [
    "cam = read_shelve(\"camera.xml\")"
   ]
  },
  {
   "cell_type": "code",
   "execution_count": 7,
   "metadata": {
    "collapsed": false
   },
   "outputs": [
    {
     "name": "stdout",
     "output_type": "stream",
     "text": [
      "39.153972143190735\n",
      "40.18314730765374\n"
     ]
    }
   ],
   "source": [
    "pixel_size(cam, ImageCoordinate(0,0))"
   ]
  },
  {
   "cell_type": "code",
   "execution_count": 8,
   "metadata": {
    "collapsed": false
   },
   "outputs": [
    {
     "name": "stdout",
     "output_type": "stream",
     "text": [
      "6\n"
     ]
    }
   ],
   "source": [
    "print(cam.number_band)"
   ]
  },
  {
   "cell_type": "code",
   "execution_count": 9,
   "metadata": {
    "collapsed": false
   },
   "outputs": [
    {
     "data": {
      "text/plain": [
       "26.500489777014444"
      ]
     },
     "execution_count": 9,
     "metadata": {},
     "output_type": "execute_result"
    }
   ],
   "source": [
    "32.2e-6 * 2.660 * rad_to_deg * 5400"
   ]
  },
  {
   "cell_type": "code",
   "execution_count": 10,
   "metadata": {
    "collapsed": false
   },
   "outputs": [
    {
     "data": {
      "text/plain": [
       "5400.000000000001"
      ]
     },
     "execution_count": 10,
     "metadata": {},
     "output_type": "execute_result"
    }
   ],
   "source": [
    "173.88e-3 / 32.2e-6"
   ]
  },
  {
   "cell_type": "code",
   "execution_count": 11,
   "metadata": {
    "collapsed": false
   },
   "outputs": [
    {
     "data": {
      "text/plain": [
       "3.1414600000000004"
      ]
     },
     "execution_count": 11,
     "metadata": {},
     "output_type": "execute_result"
    }
   ],
   "source": [
    "2.66 * 1.181"
   ]
  },
  {
   "cell_type": "code",
   "execution_count": 12,
   "metadata": {
    "collapsed": false
   },
   "outputs": [
    {
     "data": {
      "text/plain": [
       "2.659881780039358"
      ]
     },
     "execution_count": 12,
     "metadata": {},
     "output_type": "execute_result"
    }
   ],
   "source": [
    "25.4 / 60 * 2 * pi"
   ]
  },
  {
   "cell_type": "code",
   "execution_count": 13,
   "metadata": {
    "collapsed": false
   },
   "outputs": [],
   "source": [
    "t0, fc = tt.time(ImageCoordinate(0,0))\n",
    "od = orb.orbit_data(t0)"
   ]
  },
  {
   "cell_type": "code",
   "execution_count": 18,
   "metadata": {
    "collapsed": true
   },
   "outputs": [],
   "source": [
    "def od_scan(od, sa):\n",
    "    '''Convert a orbit data w/o the scan mirror to one with the scan_angle (in radians)'''\n",
    "    return QuaternionOrbitData(od.time, od.position_ci, od.velocity_ci, \n",
    "                               od.sc_to_ci * quat_rot_x(sa))\n",
    "def scan_angle(time):\n",
    "    # Not sure about this\n",
    "    scan_min = -25.5 * deg_to_rad\n",
    "    scan_max = 25.5 * deg_to_rad\n",
    "    scan_time = 173.88e-3\n",
    "    scan_rate = (scan_max - scan_min) / scan_time\n",
    "    return (time - t0) * scan_rate + scan_min\n",
    "    \n",
    "def od_time(od, time):\n",
    "    return od_scan(od, scan_angle(time))"
   ]
  },
  {
   "cell_type": "code",
   "execution_count": null,
   "metadata": {
    "collapsed": true
   },
   "outputs": [],
   "source": []
  },
  {
   "cell_type": "code",
   "execution_count": 26,
   "metadata": {
    "collapsed": false
   },
   "outputs": [
    {
     "name": "stdout",
     "output_type": "stream",
     "text": [
      "80.7276609540291\n"
     ]
    }
   ],
   "source": [
    "gp1 = od_time(od, t0 + 5400 * 31.6e-6).surface_intersect(cam, fc, dem)\n",
    "gp2 = od_time(od, t0 + 5401 * 31.6e-6).surface_intersect(cam, fc, dem)\n",
    "print(distance(gp1,gp2))"
   ]
  },
  {
   "cell_type": "code",
   "execution_count": 16,
   "metadata": {
    "collapsed": false
   },
   "outputs": [
    {
     "name": "stdout",
     "output_type": "stream",
     "text": [
      "Look vector in spacecraft coordinates: \n",
      "  dir:    (-0.0120433, 0.00159458, 0.999926)\n",
      "  length: 425.031 m\n",
      "\n"
     ]
    }
   ],
   "source": [
    "print(cam.sc_look_vector(FrameCoordinate(256,0.5),4))"
   ]
  },
  {
   "cell_type": "code",
   "execution_count": 24,
   "metadata": {
    "collapsed": false
   },
   "outputs": [
    {
     "data": {
      "text/plain": [
       "74.44444444444444"
      ]
     },
     "execution_count": 24,
     "metadata": {},
     "output_type": "execute_result"
    }
   ],
   "source": [
    "402000 / 5400"
   ]
  },
  {
   "cell_type": "code",
   "execution_count": null,
   "metadata": {
    "collapsed": true
   },
   "outputs": [],
   "source": []
  }
 ],
 "metadata": {
  "kernelspec": {
   "display_name": "Python 3",
   "language": "python",
   "name": "python3"
  },
  "language_info": {
   "codemirror_mode": {
    "name": "ipython",
    "version": 3
   },
   "file_extension": ".py",
   "mimetype": "text/x-python",
   "name": "python",
   "nbconvert_exporter": "python",
   "pygments_lexer": "ipython3",
   "version": "3.5.1"
  }
 },
 "nbformat": 4,
 "nbformat_minor": 1
}
