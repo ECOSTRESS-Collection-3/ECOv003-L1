{
 "cells": [
  {
   "cell_type": "raw",
   "metadata": {},
   "source": [
    "Work on getting an IGC that models ecostress"
   ]
  },
  {
   "cell_type": "code",
   "execution_count": 1,
   "metadata": {
    "collapsed": true
   },
   "outputs": [],
   "source": [
    "from geocal import *\n",
    "from ecostress_swig import *\n",
    "import h5py\n",
    "import os"
   ]
  },
  {
   "cell_type": "code",
   "execution_count": 2,
   "metadata": {
    "collapsed": false
   },
   "outputs": [],
   "source": [
    "orb_fname = \"/data/smyth/ecostress-test-data/latest/L1A_RAW_ATT_80005_20150124T204251_0100_01.h5.expected\"\n",
    "orb = HdfOrbit_Eci_TimeJ2000(orb_fname, \"\", \"Ephemeris/time_j2000\",\n",
    "                             \"Ephemeris/eci_position\",\n",
    "                             \"Ephemeris/eci_velocity\",\n",
    "                             \"Attitude/time_j2000\",\n",
    "                             \"Attitude/quaternion\")\n",
    "rad_fname = \"/data/smyth/ecostress-test-data/latest/ECOSTRESS_L1B_RAD_80005_001_20150124T204251_0100_01.h5.expected\"\n",
    "f = h5py.File(rad_fname, \"r\")\n",
    "tmlist = f[\"/Time/line_start_time_j2000\"][:]\n",
    "tt = MeasuredTimeTable([Time.time_j2000(t) for t in tmlist])\n",
    "datum = os.environ[\"AFIDS_VDEV_DATA\"] + \"/EGM96_20_x100.HLF\"\n",
    "srtm_dir = os.environ[\"ELEV_ROOT\"]\n",
    "dem = SrtmDem(srtm_dir,False, DatumGeoid96(datum))"
   ]
  },
  {
   "cell_type": "code",
   "execution_count": 3,
   "metadata": {
    "collapsed": false
   },
   "outputs": [],
   "source": [
    "# Initial camera, we will change this\n",
    "cam_fname = \"/data/smyth/ecostress-test-data/latest/l1_osp_dir/camera.xml\"\n",
    "cam_old = read_shelve(cam_fname)"
   ]
  },
  {
   "cell_type": "code",
   "execution_count": 4,
   "metadata": {
    "collapsed": false
   },
   "outputs": [],
   "source": [
    "def pixel_size(cam, ic):\n",
    "    t, fc = tt.time(ic)\n",
    "    od = orb.orbit_data(t)\n",
    "    gp1 = od.surface_intersect(cam, fc, dem)\n",
    "    fc.line = fc.line + 1\n",
    "    gp2 = od.surface_intersect(cam, fc, dem)\n",
    "    fc.line = fc.line - 1\n",
    "    fc.sample = fc.sample + 1\n",
    "    gp3 = od.surface_intersect(cam, fc, dem)\n",
    "    print(distance(gp1, gp2))\n",
    "    print(distance(gp1, gp3))"
   ]
  },
  {
   "cell_type": "code",
   "execution_count": 5,
   "metadata": {
    "collapsed": false
   },
   "outputs": [
    {
     "name": "stdout",
     "output_type": "stream",
     "text": [
      "70.38688759623848\n",
      "76.768843193277\n"
     ]
    }
   ],
   "source": [
    "pixel_size(cam_old, ImageCoordinate(0,0))"
   ]
  },
  {
   "cell_type": "code",
   "execution_count": 6,
   "metadata": {
    "collapsed": false
   },
   "outputs": [],
   "source": [
    "cam = QuaternionCamera(Quaternion_double(1,0,0,0), 256, 1, \n",
    "                       40e-3,40e-3,425, FrameCoordinate(128,0.5))"
   ]
  },
  {
   "cell_type": "code",
   "execution_count": 7,
   "metadata": {
    "collapsed": false
   },
   "outputs": [
    {
     "name": "stdout",
     "output_type": "stream",
     "text": [
      "38.86684765419074\n",
      "42.22235250917164\n"
     ]
    }
   ],
   "source": [
    "pixel_size(cam, ImageCoordinate(0,0))"
   ]
  },
  {
   "cell_type": "code",
   "execution_count": 8,
   "metadata": {
    "collapsed": false
   },
   "outputs": [
    {
     "name": "stdout",
     "output_type": "stream",
     "text": [
      "QuaternionCamera:\n",
      "   Number line:     1\n",
      "   Number sample:   5400\n",
      "   Focal length:    425 mm\n",
      "   Line pitch:      0.072 mm\n",
      "   Sample pitch:    0.08 mm\n",
      "   Principal point: Frame Coordinate: (0.5, 2700)\n",
      "   Frame convention: LINE_IS_X\n",
      "   Frame to spacecraft: (1,0,0,0)\n",
      "\n"
     ]
    }
   ],
   "source": [
    "print(cam_old)"
   ]
  },
  {
   "cell_type": "code",
   "execution_count": 9,
   "metadata": {
    "collapsed": false
   },
   "outputs": [
    {
     "name": "stdout",
     "output_type": "stream",
     "text": [
      "QuaternionCamera:\n",
      "   Number line:     256\n",
      "   Number sample:   1\n",
      "   Focal length:    425 mm\n",
      "   Line pitch:      0.04 mm\n",
      "   Sample pitch:    0.04 mm\n",
      "   Principal point: Frame Coordinate: (128, 0.5)\n",
      "   Frame convention: LINE_IS_X\n",
      "   Frame to spacecraft: (1,0,0,0)\n",
      "\n"
     ]
    }
   ],
   "source": [
    "print(cam)"
   ]
  },
  {
   "cell_type": "code",
   "execution_count": 10,
   "metadata": {
    "collapsed": false
   },
   "outputs": [],
   "source": [
    "cam = EcostressCamera()"
   ]
  },
  {
   "cell_type": "code",
   "execution_count": 11,
   "metadata": {
    "collapsed": false
   },
   "outputs": [
    {
     "name": "stdout",
     "output_type": "stream",
     "text": [
      "38.86684765419074\n",
      "42.22235250917164\n"
     ]
    }
   ],
   "source": [
    "pixel_size(cam, ImageCoordinate(0,0))"
   ]
  },
  {
   "cell_type": "code",
   "execution_count": 12,
   "metadata": {
    "collapsed": false
   },
   "outputs": [
    {
     "name": "stdout",
     "output_type": "stream",
     "text": [
      "True\n"
     ]
    }
   ],
   "source": [
    "print(isinstance(cam_old,QuaternionCamera))"
   ]
  },
  {
   "cell_type": "code",
   "execution_count": 13,
   "metadata": {
    "collapsed": false
   },
   "outputs": [
    {
     "name": "stdout",
     "output_type": "stream",
     "text": [
      "True\n"
     ]
    }
   ],
   "source": [
    "print(isinstance(cam,QuaternionCamera))"
   ]
  },
  {
   "cell_type": "code",
   "execution_count": 14,
   "metadata": {
    "collapsed": false
   },
   "outputs": [
    {
     "name": "stdout",
     "output_type": "stream",
     "text": [
      "True\n"
     ]
    }
   ],
   "source": [
    "print(isinstance(cam,Camera))"
   ]
  },
  {
   "cell_type": "code",
   "execution_count": 15,
   "metadata": {
    "collapsed": false
   },
   "outputs": [
    {
     "name": "stdout",
     "output_type": "stream",
     "text": [
      "EcostressCamera\n"
     ]
    }
   ],
   "source": [
    "print(cam)"
   ]
  },
  {
   "cell_type": "code",
   "execution_count": 16,
   "metadata": {
    "collapsed": false
   },
   "outputs": [],
   "source": [
    "t, fc = tt.time(ImageCoordinate(0,0))\n",
    "od = orb.orbit_data(t)\n",
    "ras = MemoryRasterImage(cam.number_line(0), cam.number_sample(0))\n",
    "igc = OrbitDataImageGroundConnection(od, cam, dem, ras)"
   ]
  },
  {
   "cell_type": "code",
   "execution_count": 17,
   "metadata": {
    "collapsed": false
   },
   "outputs": [
    {
     "name": "stdout",
     "output_type": "stream",
     "text": [
      "EcostressCamera\n"
     ]
    },
    {
     "data": {
      "text/plain": [
       "<ecostress_swig.ecostress_camera.EcostressCamera; proxy of <Swig Object of type 'boost::shared_ptr< Ecostress::EcostressCamera > *' at 0x7f5d02cd3300> >"
      ]
     },
     "execution_count": 17,
     "metadata": {},
     "output_type": "execute_result"
    }
   ],
   "source": [
    "print(igc.camera)\n",
    "igc.camera"
   ]
  },
  {
   "cell_type": "code",
   "execution_count": null,
   "metadata": {
    "collapsed": true
   },
   "outputs": [],
   "source": []
  }
 ],
 "metadata": {
  "kernelspec": {
   "display_name": "Python 3",
   "language": "python",
   "name": "python3"
  },
  "language_info": {
   "codemirror_mode": {
    "name": "ipython",
    "version": 3
   },
   "file_extension": ".py",
   "mimetype": "text/x-python",
   "name": "python",
   "nbconvert_exporter": "python",
   "pygments_lexer": "ipython3",
   "version": "3.5.1"
  }
 },
 "nbformat": 4,
 "nbformat_minor": 1
}
