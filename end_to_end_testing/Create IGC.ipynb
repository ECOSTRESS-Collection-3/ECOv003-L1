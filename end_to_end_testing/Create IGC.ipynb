{
 "cells": [
  {
   "cell_type": "markdown",
   "metadata": {},
   "source": [
    "Create IGC\n",
    "=======\n",
    "\n",
    "This creates a ISS orbit, and a pushbroom camera. The camera is really different than the real camera (which is a push whisk camera). But as first order this should be vaguely realistic."
   ]
  },
  {
   "cell_type": "code",
   "execution_count": 1,
   "metadata": {
    "collapsed": false
   },
   "outputs": [],
   "source": [
    "from geocal import *"
   ]
  },
  {
   "cell_type": "markdown",
   "metadata": {},
   "source": [
    "Get the ASTER mosaic we are working with, and subset to the area of interest (This came from Tom and is just the northern part of CA).\n",
    "\n",
    "We have b4 is approx the SWIR 1.6 band of ecostress, b6 is SWIR 2.2."
   ]
  },
  {
   "cell_type": "code",
   "execution_count": 2,
   "metadata": {
    "collapsed": true
   },
   "outputs": [],
   "source": [
    "f = VicarLiteRasterImage(\"/raid27/tllogan/ecostress/coregtst/calnorm_b4.img\")\n",
    "f = SubRasterImage(f,0,0,37000, 40000)"
   ]
  },
  {
   "cell_type": "code",
   "execution_count": 3,
   "metadata": {
    "collapsed": false
   },
   "outputs": [
    {
     "name": "stdout",
     "output_type": "stream",
     "text": [
      "Geodetic: (39.4444 deg, -122.236 deg, 0 m)\n"
     ]
    }
   ],
   "source": [
    "print f.ground_coordinate(ImageCoordinate(f.number_line / 2, f.number_sample / 2))"
   ]
  },
  {
   "cell_type": "markdown",
   "metadata": {},
   "source": [
    "We inspected http://heavens-above.com looking for tracks that look like it goes near this point. It looks like oneof the passes from 10/23/2015 (PST) looks pretty good for this. Note also data 10/3/2015 which goes across the other way, if we need to use that instead."
   ]
  },
  {
   "cell_type": "code",
   "execution_count": 4,
   "metadata": {
    "collapsed": false
   },
   "outputs": [
    {
     "name": "stdout",
     "output_type": "stream",
     "text": [
      "2015-10-24T02:02:38.000000Z\n"
     ]
    }
   ],
   "source": [
    "# Time here is the maximum altitude for our point. It is given in local time, so we need to\n",
    "# convert to UTC\n",
    "t = Time.parse_time('2015-10-23T19:02:38Z') + 7 * 60 * 60\n",
    "print t"
   ]
  },
  {
   "cell_type": "code",
   "execution_count": 5,
   "metadata": {
    "collapsed": false
   },
   "outputs": [],
   "source": [
    "# TLE comes from http://www.n2yo.com/satellite/?s=25544. This was for 10/24/2015\n",
    "tle = '''\\\n",
    "1 25544U 98067A   15301.64187079  .00010243  00000-0  15860-3 0  9995\n",
    "2 25544  51.6438 138.0120 0006887  88.7083 356.4634 15.54663652968802\n",
    "'''\n",
    "orb = TleOrbit(tle)"
   ]
  },
  {
   "cell_type": "code",
   "execution_count": 6,
   "metadata": {
    "collapsed": false
   },
   "outputs": [
    {
     "name": "stdout",
     "output_type": "stream",
     "text": [
      "Geodetic: (39.4465 deg, -122.196 deg, 403997 m)\n"
     ]
    }
   ],
   "source": [
    "print Geodetic(orb.position_cf(t))"
   ]
  },
  {
   "cell_type": "markdown",
   "metadata": {},
   "source": [
    "Focal length and ccd pixel size comes from Eugene's SDS data bible. The scaling of the CCD size is empirical to give the right resolution on the surface. These are pretty hoaky, we really just want something vaguely right since our camera model is pretty different from a pushbroom. But this gives a place to start."
   ]
  },
  {
   "cell_type": "code",
   "execution_count": 7,
   "metadata": {
    "collapsed": false
   },
   "outputs": [
    {
     "name": "stdout",
     "output_type": "stream",
     "text": [
      "QuaternionCamera:\n",
      "   Number line:     1\n",
      "   Number sample:   5400\n",
      "   Focal length:    425 mm\n",
      "   Line pitch:      0.072 mm\n",
      "   Sample pitch:    0.08 mm\n",
      "   Principal point: Frame Coordinate: (0.5, 2700)\n",
      "   Frame convention: LINE_IS_X\n",
      "   Frame to spacecraft: (1,0,0,0)\n",
      "\n"
     ]
    }
   ],
   "source": [
    "frame_to_sc = quat_rot(\"ZYX\", 0, 0, 0)\n",
    "cam = QuaternionCamera(frame_to_sc, 1, 5400, 40e-3 * 1.8, 40e-3 * 2, 425, FrameCoordinate(1.0 / 2, 5400.0 / 2))\n",
    "print cam"
   ]
  },
  {
   "cell_type": "markdown",
   "metadata": {},
   "source": [
    "The time table data comes from Eugene's SDS data bible file (ECOSTRESS_SDS_Data_Bible.xls in ecostress-sds git repository). The real camera is a bit complicated, but we collect about 241 samples of data (in along track direction) every 1.181 seconds. For a pushbroom, we can divide this up evenly as an approximation. But then there is an averaging step (which I don't know the details of) that combines 2 pixels. So we have the factor of 2 given. Scene has 5400 pixels, which is where time calcuation comes from."
   ]
  },
  {
   "cell_type": "code",
   "execution_count": 8,
   "metadata": {
    "collapsed": false
   },
   "outputs": [],
   "source": [
    "# False here says it ok for SrtmDem to not have tile. This gives support\n",
    "# for data that is over the ocean.\n",
    "dem = SrtmDem(\"\",False)\n",
    "band = 0\n",
    "tspace = 1.181 / 241 * 2\n",
    "toff = 5400 * tspace / 2\n",
    "tt = ConstantSpacingTimeTable(t - toff + tspace, t + toff, tspace)\n",
    "ipi = Ipi(orb, cam, band, tt.min_time, tt.max_time, tt)\n",
    "igc = IpiImageGroundConnection(ipi, dem, None)"
   ]
  },
  {
   "cell_type": "code",
   "execution_count": 9,
   "metadata": {
    "collapsed": false
   },
   "outputs": [
    {
     "name": "stdout",
     "output_type": "stream",
     "text": [
      "78.2246189551\n",
      "67.963124052\n"
     ]
    }
   ],
   "source": [
    "print distance(igc.ground_coordinate(ImageCoordinate(1, 5400 / 2)), \n",
    "               igc.ground_coordinate(ImageCoordinate(1, 1 + 5400 / 2)))\n",
    "print distance(igc.ground_coordinate(ImageCoordinate(1, 5400 / 2)), \n",
    "               igc.ground_coordinate(ImageCoordinate(2, 5400 / 2)))"
   ]
  },
  {
   "cell_type": "code",
   "execution_count": 10,
   "metadata": {
    "collapsed": false
   },
   "outputs": [
    {
     "name": "stdout",
     "output_type": "stream",
     "text": [
      "(68.45938212612417, 76.06608503100865)\n"
     ]
    }
   ],
   "source": [
    "print igc.footprint_resolution(1, 5400 / 2)"
   ]
  },
  {
   "cell_type": "code",
   "execution_count": 11,
   "metadata": {
    "collapsed": false
   },
   "outputs": [],
   "source": [
    "write_shelve(\"igc_test.xml\", igc)\n",
    "write_shelve(\"aster_rad.xml\", f)\n",
    "# We may want to have IgcSimulated not read everything into memory. But start with this\n",
    "write_shelve(\"test_data.db:igc_simulated\", IgcSimulated(igc, f, -1, False))\n",
    "# Then do write_image --verbose --number-process=20 --process-number-line=100 --process-number-sample=100 test_data.db:igc_simulated l1b1_sim.img "
   ]
  },
  {
   "cell_type": "code",
   "execution_count": 12,
   "metadata": {
    "collapsed": false
   },
   "outputs": [
    {
     "name": "stdout",
     "output_type": "stream",
     "text": [
      "(249.462, 18524.1)\n",
      "(22085, -1894.57)\n",
      "(15371.8, 42765.2)\n",
      "(36555.8, 21889.5)\n"
     ]
    }
   ],
   "source": [
    "print f.coordinate(igc.ground_coordinate(ImageCoordinate(0,0)))\n",
    "print f.coordinate(igc.ground_coordinate(ImageCoordinate(0,igc.number_sample - 1)))\n",
    "print f.coordinate(igc.ground_coordinate(ImageCoordinate(igc.number_line - 1, 0)))\n",
    "print f.coordinate(igc.ground_coordinate(ImageCoordinate(igc.number_line - 1, igc.number_sample - 1)))"
   ]
  },
  {
   "cell_type": "code",
   "execution_count": 13,
   "metadata": {
    "collapsed": true
   },
   "outputs": [],
   "source": [
    "write_shelve(\"orbit.xml\", orb)\n",
    "write_shelve(\"camera.xml\", cam)\n",
    "write_shelve(\"time_table.xml\", tt)"
   ]
  },
  {
   "cell_type": "code",
   "execution_count": null,
   "metadata": {
    "collapsed": true
   },
   "outputs": [],
   "source": []
  }
 ],
 "metadata": {
  "kernelspec": {
   "display_name": "Python 2",
   "language": "python",
   "name": "python2"
  },
  "language_info": {
   "codemirror_mode": {
    "name": "ipython",
    "version": 2
   },
   "file_extension": ".py",
   "mimetype": "text/x-python",
   "name": "python",
   "nbconvert_exporter": "python",
   "pygments_lexer": "ipython2",
   "version": "2.7.3"
  }
 },
 "nbformat": 4,
 "nbformat_minor": 0
}
