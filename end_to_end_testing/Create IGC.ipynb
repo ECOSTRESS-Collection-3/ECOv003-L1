{
 "cells": [
  {
   "cell_type": "markdown",
   "metadata": {},
   "source": [
    "Create IGC\n",
    "=======\n",
    "\n",
    "This creates a ISS orbit, and a pushbroom camera. The camera is really different than the real camera (which is a push whisk camera). But as first order this should be vaguely realistic."
   ]
  },
  {
   "cell_type": "code",
   "execution_count": 1,
   "metadata": {
    "collapsed": false
   },
   "outputs": [],
   "source": [
    "from geocal import *"
   ]
  },
  {
   "cell_type": "markdown",
   "metadata": {},
   "source": [
    "Center times for each of the passes. See the wiki for details on how these were determined"
   ]
  },
  {
   "cell_type": "code",
   "execution_count": 2,
   "metadata": {
    "collapsed": true
   },
   "outputs": [],
   "source": [
    "pass_time = [Time.parse_time(\"2015-01-14T12:00:24.995464Z\"),\n",
    "            Time.parse_time(\"2015-03-11T13:27:08.758614Z\"),\n",
    "            Time.parse_time(\"2015-03-02T16:34:33.146760Z\"),\n",
    "            Time.parse_time(\"2015-04-16T22:13:14.347679Z\"),\n",
    "            Time.parse_time(\"2015-01-24T14:43:18.819553Z\")]"
   ]
  },
  {
   "cell_type": "markdown",
   "metadata": {},
   "source": [
    "Get the ASTER mosaic we are working with for all the bands. This comes from the wiki. Data originally comes from /raid11/astermos, but is compressed there."
   ]
  },
  {
   "cell_type": "code",
   "execution_count": 7,
   "metadata": {
    "collapsed": false
   },
   "outputs": [],
   "source": [
    "def fname(band):\n",
    "    return \"/data/smyth/AsterMosiac/calnorm_b%d.img\" % band\n",
    "f = [VicarLiteRasterImage(fname(aster_band)) for aster_band in [10, 11, 12, 14, 14, 4]]"
   ]
  },
  {
   "cell_type": "code",
   "execution_count": 9,
   "metadata": {
    "collapsed": false
   },
   "outputs": [
    {
     "name": "stdout",
     "output_type": "stream",
     "text": [
      "Geodetic: (39.5 deg, -122.07 deg, 414397 m)\n"
     ]
    }
   ],
   "source": [
    "orb = SpiceOrbit(SpiceOrbit.ISS_ID, \"iss_spice/iss_2015.bsp\")\n",
    "print(Geodetic(orb.position_cf(pass_time[0])))"
   ]
  },
  {
   "cell_type": "markdown",
   "metadata": {},
   "source": [
    "Focal length and ccd pixel size comes from Eugene's SDS data bible. The scaling of the CCD size is empirical to give the right resolution on the surface. These are pretty hoaky, we really just want something vaguely right since our camera model is pretty different from a pushbroom. But this gives a place to start."
   ]
  },
  {
   "cell_type": "code",
   "execution_count": 11,
   "metadata": {
    "collapsed": false
   },
   "outputs": [
    {
     "name": "stdout",
     "output_type": "stream",
     "text": [
      "QuaternionCamera:\n",
      "   Number line:     1\n",
      "   Number sample:   5400\n",
      "   Focal length:    425 mm\n",
      "   Line pitch:      0.072 mm\n",
      "   Sample pitch:    0.08 mm\n",
      "   Principal point: Frame Coordinate: (0.5, 2700)\n",
      "   Frame convention: LINE_IS_X\n",
      "   Frame to spacecraft: (1,0,0,0)\n",
      "\n"
     ]
    }
   ],
   "source": [
    "frame_to_sc = quat_rot(\"ZYX\", 0, 0, 0)\n",
    "cam = QuaternionCamera(frame_to_sc, 1, 5400, 40e-3 * 1.8, 40e-3 * 2, 425, FrameCoordinate(1.0 / 2, 5400.0 / 2))\n",
    "print(cam)"
   ]
  },
  {
   "cell_type": "markdown",
   "metadata": {},
   "source": [
    "The time table data comes from Eugene's SDS data bible file (ECOSTRESS_SDS_Data_Bible.xls in ecostress-sds git repository). The real camera is a bit complicated, but we collect about 241 samples of data (in along track direction) every 1.181 seconds. For a pushbroom, we can divide this up evenly as an approximation. But then there is an averaging step (which I don't know the details of) that combines 2 pixels. So we have the factor of 2 given. Scene has 5400 pixels, which is where time calcuation comes from."
   ]
  },
  {
   "cell_type": "code",
   "execution_count": 13,
   "metadata": {
    "collapsed": false
   },
   "outputs": [],
   "source": [
    "# False here says it ok for SrtmDem to not have tile. This gives support\n",
    "# for data that is over the ocean.\n",
    "dem = SrtmDem(\"\",False)\n",
    "band = 0\n",
    "tspace = 1.181 / 241 * 2\n",
    "toff = 5400 * tspace / 2\n",
    "tt = ConstantSpacingTimeTable(pass_time[0] - toff + tspace, pass_time[0] + toff, tspace)\n",
    "ipi = Ipi(orb, cam, band, tt.min_time, tt.max_time, tt)\n",
    "igc = IpiImageGroundConnection(ipi, dem, None)"
   ]
  },
  {
   "cell_type": "code",
   "execution_count": 15,
   "metadata": {
    "collapsed": false
   },
   "outputs": [
    {
     "name": "stdout",
     "output_type": "stream",
     "text": [
      "77.96361047421502\n",
      "67.75143691654624\n"
     ]
    }
   ],
   "source": [
    "print(distance(igc.ground_coordinate(ImageCoordinate(1, 5400 / 2)), \n",
    "               igc.ground_coordinate(ImageCoordinate(1, 1 + 5400 / 2))))\n",
    "print(distance(igc.ground_coordinate(ImageCoordinate(1, 5400 / 2)), \n",
    "               igc.ground_coordinate(ImageCoordinate(2, 5400 / 2))))"
   ]
  },
  {
   "cell_type": "code",
   "execution_count": 19,
   "metadata": {
    "collapsed": false
   },
   "outputs": [
    {
     "name": "stdout",
     "output_type": "stream",
     "text": [
      "(70.16135516404367, 77.95709168959802)\n"
     ]
    }
   ],
   "source": [
    "print(igc.footprint_resolution(1, int(5400 / 2)))"
   ]
  },
  {
   "cell_type": "code",
   "execution_count": 11,
   "metadata": {
    "collapsed": false
   },
   "outputs": [],
   "source": [
    "write_shelve(\"igc_test.xml\", igc)\n",
    "write_shelve(\"aster_rad.xml\", f)\n",
    "# We may want to have IgcSimulated not read everything into memory. But start with this\n",
    "write_shelve(\"test_data.db:igc_simulated\", IgcSimulated(igc, f, -1, False))\n",
    "# Then do write_image --verbose --number-process=20 --process-number-line=100 --process-number-sample=100 test_data.db:igc_simulated l1b1_sim.img "
   ]
  },
  {
   "cell_type": "code",
   "execution_count": 12,
   "metadata": {
    "collapsed": false
   },
   "outputs": [
    {
     "name": "stdout",
     "output_type": "stream",
     "text": [
      "(249.462, 18524.1)\n",
      "(22085, -1894.57)\n",
      "(15371.8, 42765.2)\n",
      "(36555.8, 21889.5)\n"
     ]
    }
   ],
   "source": [
    "print f.coordinate(igc.ground_coordinate(ImageCoordinate(0,0)))\n",
    "print f.coordinate(igc.ground_coordinate(ImageCoordinate(0,igc.number_sample - 1)))\n",
    "print f.coordinate(igc.ground_coordinate(ImageCoordinate(igc.number_line - 1, 0)))\n",
    "print f.coordinate(igc.ground_coordinate(ImageCoordinate(igc.number_line - 1, igc.number_sample - 1)))"
   ]
  },
  {
   "cell_type": "code",
   "execution_count": 13,
   "metadata": {
    "collapsed": true
   },
   "outputs": [],
   "source": [
    "write_shelve(\"orbit.xml\", orb)\n",
    "write_shelve(\"camera.xml\", cam)\n",
    "write_shelve(\"time_table.xml\", tt)"
   ]
  },
  {
   "cell_type": "code",
   "execution_count": null,
   "metadata": {
    "collapsed": true
   },
   "outputs": [],
   "source": []
  }
 ],
 "metadata": {
  "kernelspec": {
   "display_name": "Python 3",
   "language": "python",
   "name": "python3"
  },
  "language_info": {
   "codemirror_mode": {
    "name": "ipython",
    "version": 3
   },
   "file_extension": ".py",
   "mimetype": "text/x-python",
   "name": "python",
   "nbconvert_exporter": "python",
   "pygments_lexer": "ipython3",
   "version": "3.5.1"
  }
 },
 "nbformat": 4,
 "nbformat_minor": 0
}
